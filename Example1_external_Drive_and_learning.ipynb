{
  "nbformat": 4,
  "nbformat_minor": 0,
  "metadata": {
    "colab": {
      "name": "Example1_external_Drive and_learning.ipynb",
      "provenance": [],
      "collapsed_sections": [],
      "authorship_tag": "ABX9TyONMER+K2MwnY2kvxLNhyzz",
      "include_colab_link": true
    },
    "kernelspec": {
      "name": "python3",
      "display_name": "Python 3"
    },
    "language_info": {
      "name": "python"
    },
    "accelerator": "GPU"
  },
  "cells": [
    {
      "cell_type": "markdown",
      "metadata": {
        "id": "view-in-github",
        "colab_type": "text"
      },
      "source": [
        "<a href=\"https://colab.research.google.com/github/YAYAYru/ml_epenthesis/blob/main/Example1_external_Drive_and_learning.ipynb\" target=\"_parent\"><img src=\"https://colab.research.google.com/assets/colab-badge.svg\" alt=\"Open In Colab\"/></a>"
      ]
    },
    {
      "cell_type": "markdown",
      "source": [
        "# How get external Drive folder and training run with Neptune.ai"
      ],
      "metadata": {
        "id": "mmC78_zg1e7K"
      }
    },
    {
      "cell_type": "markdown",
      "source": [
        "## How get \"Shared with me\" Drive folder?\n",
        "- [1757 skeletal models with 30 FPS from the video words and sentenses](https://drive.google.com/drive/folders/128a7OL_0IsndoZhagx4_T7pkNuOR-0M8?usp=sharing) \n",
        "- [1757 weakly labeled movements with 30 FPS\n",
        " from the video words and sentenses](https://drive.google.com/drive/folders/13lgb-JGdpnZ8gEFGdYqiUAgcQN5Yp2zP?usp=sharing)\n",
        "\n",
        "After receiving the link(above) to a not my Drive folder, click on \"Share with me\"->\"Add a shortcut to Drive\" and add shortcut to your Drive folder (ex. name folder \"sl_dataset\") further below. \n"
      ],
      "metadata": {
        "id": "rziFJIbBn_rF"
      }
    },
    {
      "cell_type": "markdown",
      "source": [
        ""
      ],
      "metadata": {
        "id": "TyxxMDGtrriA"
      }
    },
    {
      "cell_type": "code",
      "execution_count": null,
      "metadata": {
        "id": "UZ7VyrsHbsvd",
        "colab": {
          "base_uri": "https://localhost:8080/"
        },
        "outputId": "a9d545f6-5c5c-496c-e994-d44b9bdffcbd"
      },
      "outputs": [
        {
          "output_type": "stream",
          "name": "stdout",
          "text": [
            "Mounted at /content/drive\n"
          ]
        }
      ],
      "source": [
        "from google.colab import drive\n",
        "drive.mount('/content/drive')"
      ]
    },
    {
      "cell_type": "markdown",
      "source": [
        "## Check and determine сount of the files of skelet models and weakly labeled movements"
      ],
      "metadata": {
        "id": "j0M5eo30CLdQ"
      }
    },
    {
      "cell_type": "code",
      "source": [
        "path_folder_csv = \"drive/MyDrive/sl_dataset/csv_slsru_skelet_v0_1_0/x_x_cx_and_sxx_interpol_30FPS/\"\n",
        "path_folder_json = \"drive/MyDrive/sl_dataset/WeaklyLabeledMovement/x_x_cx_and_sxx_interpol_30FPS/\"\n",
        "import glob\n",
        "list_csv = glob.glob(path_folder_csv + \"*\")\n",
        "list_json = glob.glob(path_folder_json + \"*\")\n",
        "print(\"len(list_csv)\", len(list_csv))\n",
        "print(\"len(list_json)\", len(list_json))\n"
      ],
      "metadata": {
        "colab": {
          "base_uri": "https://localhost:8080/"
        },
        "id": "LJX6B3jIAPiX",
        "outputId": "8d1d3975-3062-45ae-9055-94623a154dba"
      },
      "execution_count": null,
      "outputs": [
        {
          "output_type": "stream",
          "name": "stdout",
          "text": [
            "len(list_csv) 1757\n",
            "len(list_json) 1757\n"
          ]
        }
      ]
    },
    {
      "cell_type": "markdown",
      "source": [
        "## Get custom import source from GitHub repo\n"
      ],
      "metadata": {
        "id": "dnGzq5ze9ocA"
      }
    },
    {
      "cell_type": "code",
      "source": [
        "#!rm -rf ml_epenthesis\n",
        "!cd ml_epenthesis && git pull\n",
        "#!git clone https://github.com/YAYAYru/ml_epenthesis"
      ],
      "metadata": {
        "id": "uTCgbsj57NgY",
        "colab": {
          "base_uri": "https://localhost:8080/"
        },
        "outputId": "b30696d1-c632-4494-c214-86ea35bc8e3c"
      },
      "execution_count": null,
      "outputs": [
        {
          "output_type": "stream",
          "name": "stdout",
          "text": [
            "remote: Enumerating objects: 7, done.\u001b[K\n",
            "remote: Counting objects:  14% (1/7)\u001b[K\rremote: Counting objects:  28% (2/7)\u001b[K\rremote: Counting objects:  42% (3/7)\u001b[K\rremote: Counting objects:  57% (4/7)\u001b[K\rremote: Counting objects:  71% (5/7)\u001b[K\rremote: Counting objects:  85% (6/7)\u001b[K\rremote: Counting objects: 100% (7/7)\u001b[K\rremote: Counting objects: 100% (7/7), done.\u001b[K\n",
            "remote: Compressing objects:  25% (1/4)\u001b[K\rremote: Compressing objects:  50% (2/4)\u001b[K\rremote: Compressing objects:  75% (3/4)\u001b[K\rremote: Compressing objects: 100% (4/4)\u001b[K\rremote: Compressing objects: 100% (4/4), done.\u001b[K\n",
            "remote: Total 4 (delta 2), reused 0 (delta 0), pack-reused 0\u001b[K\n",
            "Unpacking objects:  25% (1/4)   \rUnpacking objects:  50% (2/4)   \rUnpacking objects:  75% (3/4)   \rUnpacking objects: 100% (4/4)   \rUnpacking objects: 100% (4/4), done.\n",
            "From https://github.com/YAYAYru/ml_epenthesis\n",
            "   8d20c71..4d8eff7  main       -> origin/main\n",
            "Updating 8d20c71..4d8eff7\n",
            "Fast-forward\n",
            " code/learn.py | 36 \u001b[31m------------------------------------\u001b[m\n",
            " 1 file changed, 36 deletions(-)\n"
          ]
        }
      ]
    },
    {
      "cell_type": "code",
      "source": [
        "#!pip install neptune-client neptune-tensorflow-keras tensorflow"
      ],
      "metadata": {
        "id": "E58xEUTlwqgA"
      },
      "execution_count": null,
      "outputs": []
    },
    {
      "cell_type": "markdown",
      "source": [
        "## Load from csv and json files to general merging training data"
      ],
      "metadata": {
        "id": "LT_G1DKpVCGV"
      }
    },
    {
      "cell_type": "code",
      "source": [
        "#https://colab.research.google.com/github/jckantor/cbe61622/blob/master/docs/A.02-Downloading_Python_source_files_from_github.ipynb#scrollTo=4LgzwY2VVmEm\n",
        "import sys\n",
        "repo = \"ml_epenthesis\"\n",
        "src_dir = \"code\"\n",
        "\n",
        "sys.path.insert(1, f\"{repo}/{src_dir}\")\n",
        "import load\n",
        "import trans\n",
        "import config\n",
        "import learn\n",
        "import inference"
      ],
      "metadata": {
        "id": "cS2g4bSiOTdh"
      },
      "execution_count": null,
      "outputs": []
    },
    {
      "cell_type": "markdown",
      "source": [
        "### If rename paramer `mode=\"fast\"` to `mode=\"\"` then will load from all files wait a few minute else fast load from one file only"
      ],
      "metadata": {
        "id": "Cs7AtBNUh9LS"
      }
    },
    {
      "cell_type": "code",
      "source": [
        "x_full, y_full = load.from_json_csv_by_folders(path_folder_csv, path_folder_json, mode=\"fast\")"
      ],
      "metadata": {
        "id": "0Dmi_hrp0-PZ",
        "colab": {
          "base_uri": "https://localhost:8080/"
        },
        "outputId": "fad48c72-d4ad-44f5-ceaa-aa2e9c55a04b"
      },
      "execution_count": null,
      "outputs": [
        {
          "output_type": "stream",
          "name": "stdout",
          "text": [
            "-- from_json_csv_by_folders()\n",
            "len(pathcsv_list): 1757\n",
            "len(pathjson_list): 1757\n",
            "set csv and json 1757\n",
            "set csv ^ json 0\n",
            "set csv - json 0\n",
            "set json - csv 0\n",
            "videolist.shape (1757,)\n",
            "n 1000095_5_1.mp4\n",
            "X.shape (244, 50)\n",
            "Y.shape (244,)\n"
          ]
        }
      ]
    },
    {
      "cell_type": "markdown",
      "source": [
        "## Convert coordinate points of skelet model to angles between points\n",
        "Run only once"
      ],
      "metadata": {
        "id": "ejbwtqeffnDM"
      }
    },
    {
      "cell_type": "code",
      "source": [
        "x_full = trans.tranform_angles(x_full)"
      ],
      "metadata": {
        "colab": {
          "base_uri": "https://localhost:8080/"
        },
        "id": "EfAK5BalpdI7",
        "outputId": "e4b34d1c-fd33-4534-f012-d8896b0626b4"
      },
      "execution_count": null,
      "outputs": [
        {
          "output_type": "stream",
          "name": "stdout",
          "text": [
            "tranform_angles(features).shape (244, 4)\n"
          ]
        }
      ]
    },
    {
      "cell_type": "markdown",
      "source": [
        "## Convert general merging training data to windowing data on frame rate series data"
      ],
      "metadata": {
        "id": "8hESz5P1hBes"
      }
    },
    {
      "cell_type": "code",
      "source": [
        "x_steps, y_steps = trans.windowing_xy(x_full, y_full, config.WINDOW_SIZE, y_last_or_center=\"center\")  "
      ],
      "metadata": {
        "colab": {
          "base_uri": "https://localhost:8080/"
        },
        "id": "mMLfYw53hAtG",
        "outputId": "89f7171b-719f-4b65-aa00-2369ec121ca5"
      },
      "execution_count": null,
      "outputs": [
        {
          "output_type": "stream",
          "name": "stdout",
          "text": [
            "step_x.shape (214, 31, 4)\n",
            "step_y.shape (214,)\n",
            "np.unique(step_y [0 1 3 4]\n",
            "Counter(y_full) Counter({0: 150, 4: 44, 1: 26, 3: 24})\n"
          ]
        }
      ]
    },
    {
      "cell_type": "markdown",
      "source": [
        "## Check imbalancing classes"
      ],
      "metadata": {
        "id": "avoXbZR2qU_O"
      }
    },
    {
      "cell_type": "code",
      "source": [
        "import seaborn as sns\n",
        "import pandas as pd\n",
        "df_y_full = pd.DataFrame(data=y_steps, columns=[\"class\"])\n",
        "sns.countplot(x=\"class\", data=df_y_full )"
      ],
      "metadata": {
        "colab": {
          "base_uri": "https://localhost:8080/",
          "height": 297
        },
        "id": "LDxk1hHZQIan",
        "outputId": "59184117-daeb-4452-d63e-542214177b68"
      },
      "execution_count": null,
      "outputs": [
        {
          "output_type": "execute_result",
          "data": {
            "text/plain": [
              "<matplotlib.axes._subplots.AxesSubplot at 0x7f98ff730e10>"
            ]
          },
          "metadata": {},
          "execution_count": 19
        },
        {
          "output_type": "display_data",
          "data": {
            "image/png": "[encoded data removed]",
            "text/plain": [
              "<Figure size 432x288 with 1 Axes>"
            ]
          },
          "metadata": {
            "needs_background": "light"
          }
        }
      ]
    },
    {
      "cell_type": "markdown",
      "source": [
        "## Reduce training data to balancing classes\n",
        "\n"
      ],
      "metadata": {
        "id": "UQ9GN0Y-rg7y"
      }
    },
    {
      "cell_type": "code",
      "source": [
        "x_steps, y_steps = trans.inbalance2balance_postwindow(x_steps,y_steps)\n",
        "df_y_steps = pd.DataFrame(data=y_steps, columns=[\"class\"])\n",
        "sns.countplot(x=\"class\", data=df_y_steps )"
      ],
      "metadata": {
        "colab": {
          "base_uri": "https://localhost:8080/",
          "height": 421
        },
        "id": "rgYGwvCxfMs1",
        "outputId": "89d0d585-c6a3-482e-ae80-945967cec35a"
      },
      "execution_count": null,
      "outputs": [
        {
          "output_type": "stream",
          "name": "stdout",
          "text": [
            "x (96, 31, 4)\n",
            "y (96,)\n",
            "Counter(y) Counter({0: 24, 1: 24, 3: 24, 4: 24})\n",
            "min_key 0\n",
            "min_value 24\n",
            "labelnp [0 1 3 4]\n",
            "counter_Y Counter({0: 24, 1: 24, 3: 24, 4: 24})\n"
          ]
        },
        {
          "output_type": "execute_result",
          "data": {
            "text/plain": [
              "<matplotlib.axes._subplots.AxesSubplot at 0x7f98ff163fd0>"
            ]
          },
          "metadata": {},
          "execution_count": 21
        },
        {
          "output_type": "display_data",
          "data": {
            "image/png": "[encoded data removed]",
            "text/plain": [
              "<Figure size 432x288 with 1 Axes>"
            ]
          },
          "metadata": {
            "needs_background": "light"
          }
        }
      ]
    },
    {
      "cell_type": "markdown",
      "source": [
        "## Split training and validation data"
      ],
      "metadata": {
        "id": "ZCXM3qsquZGT"
      }
    },
    {
      "cell_type": "code",
      "source": [
        "X_train, X_val, X_test, Y_train, Y_val, Y_test = learn.split_train_val_test(x_steps, y_steps, config.TEST_SIZE)"
      ],
      "metadata": {
        "id": "wgb7cEtofc6K"
      },
      "execution_count": null,
      "outputs": []
    },
    {
      "cell_type": "markdown",
      "source": [
        "## Y to categotical"
      ],
      "metadata": {
        "id": "sDyfaZoKyVHU"
      }
    },
    {
      "cell_type": "code",
      "source": [
        "import tensorflow as tf\n",
        "tf.__version__"
      ],
      "metadata": {
        "colab": {
          "base_uri": "https://localhost:8080/",
          "height": 35
        },
        "id": "0M2gTZw4yuBC",
        "outputId": "97edf11a-0c90-4280-eacc-164acca7f28b"
      },
      "execution_count": null,
      "outputs": [
        {
          "output_type": "execute_result",
          "data": {
            "application/vnd.google.colaboratory.intrinsic+json": {
              "type": "string"
            },
            "text/plain": [
              "'2.7.0'"
            ]
          },
          "metadata": {},
          "execution_count": 23
        }
      ]
    },
    {
      "cell_type": "code",
      "source": [
        "Y_train_one = tf.keras.utils.to_categorical(Y_train)\n",
        "Y_val_one = tf.keras.utils.to_categorical(Y_val)\n",
        "Y_test_one = tf.keras.utils.to_categorical(Y_test)"
      ],
      "metadata": {
        "id": "5xNrDrntezEe"
      },
      "execution_count": null,
      "outputs": []
    },
    {
      "cell_type": "code",
      "source": [
        "model = learn.model_fn(X_val.shape, Y_val_one.shape)"
      ],
      "metadata": {
        "colab": {
          "base_uri": "https://localhost:8080/"
        },
        "id": "X_CEwaSby-oz",
        "outputId": "8afe5745-2c0b-4c83-bb10-cb4135d429d2"
      },
      "execution_count": null,
      "outputs": [
        {
          "output_type": "stream",
          "name": "stdout",
          "text": [
            "def model_fn(x_shape, y_shape)\n",
            "x_shape (10, 31, 4)\n",
            "y_shape (10, 5)\n",
            "Model: \"sequential\"\n",
            "_________________________________________________________________\n",
            " Layer (type)                Output Shape              Param #   \n",
            "=================================================================\n",
            " lstm (LSTM)                 (None, 31, 512)           1058816   \n",
            "                                                                 \n",
            " lstm_1 (LSTM)               (None, 31, 128)           328192    \n",
            "                                                                 \n",
            " lstm_2 (LSTM)               (None, 64)                49408     \n",
            "                                                                 \n",
            " dense (Dense)               (None, 64)                4160      \n",
            "                                                                 \n",
            " dense_1 (Dense)             (None, 32)                2080      \n",
            "                                                                 \n",
            " dense_2 (Dense)             (None, 5)                 165       \n",
            "                                                                 \n",
            "=================================================================\n",
            "Total params: 1,442,821\n",
            "Trainable params: 1,442,821\n",
            "Non-trainable params: 0\n",
            "_________________________________________________________________\n"
          ]
        }
      ]
    },
    {
      "cell_type": "code",
      "source": [
        "history = model.fit(X_train, Y_train_one, epochs=10, verbose=2,\n",
        "        batch_size=config.BATCH_SIZE, validation_data = (X_val, Y_val_one))"
      ],
      "metadata": {
        "colab": {
          "base_uri": "https://localhost:8080/"
        },
        "id": "ZvCVZvFuzEaL",
        "outputId": "9fbefe64-6c0d-4682-9494-444623c94051"
      },
      "execution_count": null,
      "outputs": [
        {
          "output_type": "stream",
          "name": "stdout",
          "text": [
            "Epoch 1/10\n",
            "1/1 - 1s - loss: 1.6033 - accuracy: 0.6053 - val_loss: 1.6003 - val_accuracy: 0.7000 - 606ms/epoch - 606ms/step\n",
            "Epoch 2/10\n",
            "1/1 - 1s - loss: 1.6027 - accuracy: 0.6053 - val_loss: 1.5996 - val_accuracy: 0.7000 - 601ms/epoch - 601ms/step\n",
            "Epoch 3/10\n",
            "1/1 - 1s - loss: 1.6022 - accuracy: 0.6053 - val_loss: 1.5988 - val_accuracy: 0.7000 - 625ms/epoch - 625ms/step\n",
            "Epoch 4/10\n",
            "1/1 - 1s - loss: 1.6017 - accuracy: 0.6053 - val_loss: 1.5980 - val_accuracy: 0.7000 - 592ms/epoch - 592ms/step\n",
            "Epoch 5/10\n",
            "1/1 - 1s - loss: 1.6011 - accuracy: 0.6053 - val_loss: 1.5972 - val_accuracy: 0.7000 - 608ms/epoch - 608ms/step\n",
            "Epoch 6/10\n",
            "1/1 - 1s - loss: 1.6005 - accuracy: 0.5921 - val_loss: 1.5963 - val_accuracy: 0.7000 - 593ms/epoch - 593ms/step\n",
            "Epoch 7/10\n",
            "1/1 - 1s - loss: 1.5998 - accuracy: 0.5921 - val_loss: 1.5954 - val_accuracy: 0.7000 - 602ms/epoch - 602ms/step\n",
            "Epoch 8/10\n",
            "1/1 - 1s - loss: 1.5991 - accuracy: 0.5789 - val_loss: 1.5944 - val_accuracy: 0.7000 - 610ms/epoch - 610ms/step\n",
            "Epoch 9/10\n",
            "1/1 - 1s - loss: 1.5983 - accuracy: 0.5658 - val_loss: 1.5933 - val_accuracy: 0.7000 - 605ms/epoch - 605ms/step\n",
            "Epoch 10/10\n",
            "1/1 - 1s - loss: 1.5975 - accuracy: 0.5658 - val_loss: 1.5922 - val_accuracy: 0.7000 - 601ms/epoch - 601ms/step\n"
          ]
        }
      ]
    },
    {
      "cell_type": "markdown",
      "source": [
        "## Save model"
      ],
      "metadata": {
        "id": "q-tw1Cq-XD0I"
      }
    },
    {
      "cell_type": "code",
      "source": [
        "name_model = \"test\"\n",
        "path_model_write = \"model/\" + name_model\n",
        "tf.saved_model.save(model, path_model_write + \"_tf\")\n",
        "model.save(path_model_write + \"_keras.h5\")\n",
        "model.save(path_model_write +\"_tfv2\", save_format=\"tf\")"
      ],
      "metadata": {
        "id": "ofoQbJMGzvxi",
        "colab": {
          "base_uri": "https://localhost:8080/"
        },
        "outputId": "acb44299-b355-45d8-a737-9e7f0218dd1c"
      },
      "execution_count": null,
      "outputs": [
        {
          "output_type": "stream",
          "name": "stdout",
          "text": [
            "INFO:tensorflow:Assets written to: model/test_tf/assets\n"
          ]
        },
        {
          "output_type": "stream",
          "name": "stderr",
          "text": [
            "INFO:tensorflow:Assets written to: model/test_tf/assets\n"
          ]
        },
        {
          "output_type": "stream",
          "name": "stdout",
          "text": [
            "INFO:tensorflow:Assets written to: model/test_tfv2/assets\n"
          ]
        },
        {
          "output_type": "stream",
          "name": "stderr",
          "text": [
            "INFO:tensorflow:Assets written to: model/test_tfv2/assets\n",
            "WARNING:absl:<keras.layers.recurrent.LSTMCell object at 0x7f98ff0dead0> has the same name 'LSTMCell' as a built-in Keras object. Consider renaming <class 'keras.layers.recurrent.LSTMCell'> to avoid naming conflicts when loading with `tf.keras.models.load_model`. If renaming is not possible, pass the object in the `custom_objects` parameter of the load function.\n",
            "WARNING:absl:<keras.layers.recurrent.LSTMCell object at 0x7f98fff9c350> has the same name 'LSTMCell' as a built-in Keras object. Consider renaming <class 'keras.layers.recurrent.LSTMCell'> to avoid naming conflicts when loading with `tf.keras.models.load_model`. If renaming is not possible, pass the object in the `custom_objects` parameter of the load function.\n",
            "WARNING:absl:<keras.layers.recurrent.LSTMCell object at 0x7f98fb7709d0> has the same name 'LSTMCell' as a built-in Keras object. Consider renaming <class 'keras.layers.recurrent.LSTMCell'> to avoid naming conflicts when loading with `tf.keras.models.load_model`. If renaming is not possible, pass the object in the `custom_objects` parameter of the load function.\n"
          ]
        }
      ]
    },
    {
      "cell_type": "markdown",
      "source": [
        "## Read model"
      ],
      "metadata": {
        "id": "kgurRKBqXG7K"
      }
    },
    {
      "cell_type": "code",
      "source": [
        "#Y_pred_one = model.predict(X_test, verbose=2)\n",
        "path_model_read = \"model/\" + name_model + \"_tfv2\"\n",
        "saved_model = tf.keras.models.load_model(path_model_read)"
      ],
      "metadata": {
        "id": "lnZcmAAv0Rmk"
      },
      "execution_count": null,
      "outputs": []
    },
    {
      "cell_type": "markdown",
      "source": [
        "# Check model"
      ],
      "metadata": {
        "id": "a5uKHTz0XJ2y"
      }
    },
    {
      "cell_type": "code",
      "source": [
        "import numpy as np\n",
        "\n",
        "print(\"Y_pred_one[0:10]\", Y_pred_one[0:10])\n",
        "Y_pred = []\n",
        "for p in Y_pred_one:\n",
        "  #Y_pred.append(np.round(p[0]))\n",
        "  Y_pred.append(np.argmax(p))\n",
        "print(\"len(Y_pred)\", len(Y_pred))\n",
        "print(\"Y_pred[0:10]\", Y_pred)\n",
        "print(\"Y_test[0:10]\", Y_test.tolist())"
      ],
      "metadata": {
        "id": "-wCY7PQd0Xp5",
        "colab": {
          "base_uri": "https://localhost:8080/"
        },
        "outputId": "b1883416-4596-42c2-c612-e3df00020161"
      },
      "execution_count": null,
      "outputs": [
        {
          "output_type": "stream",
          "name": "stdout",
          "text": [
            "Y_pred_one[0:10] [[0.19980866 0.20361261 0.19821715 0.19545843 0.20290317]\n",
            " [0.20380706 0.19859648 0.19899058 0.19814715 0.20045874]\n",
            " [0.19985929 0.20487554 0.1977634  0.19507308 0.20242864]\n",
            " [0.19957425 0.2041963  0.19812466 0.1951261  0.20297869]\n",
            " [0.2045123  0.1975514  0.19928795 0.19867244 0.19997586]\n",
            " [0.19973068 0.20380108 0.1981892  0.19534928 0.2029298 ]\n",
            " [0.1991509  0.20620714 0.19757105 0.19415526 0.20291561]\n",
            " [0.19923909 0.20535739 0.19785301 0.19448304 0.20306744]\n",
            " [0.20358904 0.1982703  0.19904006 0.19862512 0.20047548]\n",
            " [0.20450345 0.19755702 0.1992851  0.19867225 0.19998217]]\n",
            "len(Y_pred) 10\n",
            "Y_pred[0:10] [1, 0, 1, 1, 0, 1, 1, 1, 0, 0]\n",
            "Y_test[0:10] [4, 0, 1, 4, 0, 4, 1, 4, 3, 0]\n"
          ]
        }
      ]
    },
    {
      "cell_type": "markdown",
      "source": [
        "## Evalution model"
      ],
      "metadata": {
        "id": "shU3-3SwXRKy"
      }
    },
    {
      "cell_type": "code",
      "source": [
        "eval_metrics = model.evaluate(X_test, Y_test_one)\n",
        "print(\"test/loss\", eval_metrics[0])\n",
        "print(\"test/acc\", eval_metrics[1])"
      ],
      "metadata": {
        "id": "eT2FE2Ol04YE",
        "colab": {
          "base_uri": "https://localhost:8080/"
        },
        "outputId": "92207ec1-90de-4fff-86fb-b097efceaa18"
      },
      "execution_count": null,
      "outputs": [
        {
          "output_type": "stream",
          "name": "stdout",
          "text": [
            "1/1 [==============================] - 0s 45ms/step - loss: 1.5924 - accuracy: 0.5000\n",
            "test/loss 1.592423439025879\n",
            "test/acc 0.5\n"
          ]
        }
      ]
    },
    {
      "cell_type": "markdown",
      "source": [
        "## Confusion matrix\n",
        "0 - Idle  \n",
        "1 - Begin movement  \n",
        "2 - Transitional movement(epenthesis)  \n",
        "3 - End movement  \n",
        "4 - Sign(gloss)"
      ],
      "metadata": {
        "id": "4RFAF6Y4XZni"
      }
    },
    {
      "cell_type": "code",
      "source": [
        "from sklearn.metrics import confusion_matrix\n",
        "cnf_matrix = confusion_matrix(Y_test, Y_pred, labels=[0,1,2,3,4])\n",
        "cnf_matrix = inference.plot_confusion_matrix(cnf_matrix, [\"notsign\",\"begin\",\"trans\",\"end\",\"sign\"])"
      ],
      "metadata": {
        "id": "YJISQOr308K2",
        "colab": {
          "base_uri": "https://localhost:8080/",
          "height": 487
        },
        "outputId": "43c7dc4d-b091-4125-ee80-eb332e7bb386"
      },
      "execution_count": null,
      "outputs": [
        {
          "output_type": "stream",
          "name": "stderr",
          "text": [
            "ml_epenthesis/code/inference.py:45: RuntimeWarning: invalid value encountered in true_divide\n",
            "  cm = cm.astype('float') / cm.sum(axis=1)[:, np.newaxis]\n"
          ]
        },
        {
          "output_type": "stream",
          "name": "stdout",
          "text": [
            "Normalized confusion matrix\n",
            "[[ 1.  0.  0.  0.  0.]\n",
            " [ 0.  1.  0.  0.  0.]\n",
            " [nan nan nan nan nan]\n",
            " [ 1.  0.  0.  0.  0.]\n",
            " [ 0.  1.  0.  0.  0.]]\n"
          ]
        },
        {
          "output_type": "display_data",
          "data": {
            "image/png": "[encoded data removed]",
            "text/plain": [
              "<Figure size 432x288 with 2 Axes>"
            ]
          },
          "metadata": {
            "needs_background": "light"
          }
        },
        {
          "output_type": "display_data",
          "data": {
            "text/plain": [
              "<Figure size 432x288 with 0 Axes>"
            ]
          },
          "metadata": {}
        }
      ]
    },
    {
      "cell_type": "markdown",
      "source": [
        "0 - Idle  \n",
        "1 - Begin movement  \n",
        "2 - Transitional movement(epenthesis)  \n",
        "3 - End movement  \n",
        "4 - Sign(gloss)  "
      ],
      "metadata": {
        "id": "vZJgFI2Vyybd"
      }
    }
  ]
}